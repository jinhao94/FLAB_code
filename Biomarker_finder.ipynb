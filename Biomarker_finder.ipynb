{
 "cells": [
  {
   "cell_type": "code",
   "execution_count": null,
   "metadata": {},
   "outputs": [],
   "source": [
    "##  计算每种菌在每种疾病中的信号差异\n",
    "##  包括 1. 丰度层面； 2. 存在率层面  3. 多样性层面【alpha 多样性指数，effect size】 4. 总丰度"
   ]
  },
  {
   "cell_type": "code",
   "execution_count": 14,
   "metadata": {},
   "outputs": [],
   "source": [
    "import pandas as pd\n",
    "import numpy as np\n",
    "# from scipy.stats import ttest_ind\n",
    "from statsmodels.stats.multitest import multipletests\n",
    "from scipy.stats import wilcoxon\n",
    "from scipy.stats import mannwhitneyu"
   ]
  },
  {
   "cell_type": "code",
   "execution_count": 5,
   "metadata": {},
   "outputs": [],
   "source": [
    "# 导入数据\n",
    "df = pd.read_csv('02_species_abundance.id_92', sep='\\t', index_col = 0)\n",
    "\n",
    "# 去除第一行unmapped\n",
    "df = df.iloc[1:]\n",
    "\n",
    "# Abundnace table\n",
    "df_abundance = df.filter(regex='Relative Abundance \\(%\\)')\n",
    "\n",
    "# 删除样本名中携带的后缀\n",
    "df_abundance.columns = df_abundance.columns.str.replace('.sort Relative Abundance (%)', '')\n",
    "\n",
    "# RPKM table#\n",
    "df_rpkm = df.filter(regex='RPKM')\n",
    "# 将'.sort RPKM'替换为\"\"\n",
    "df_rpkm.columns = df_rpkm.columns.str.replace('.sort RPKM', '')\n",
    "# 将'.filt.sort.RPKM'替换为\"\"\n",
    "df_rpkm.columns = df_rpkm.columns.str.replace('.filt RPKM', '')\n",
    "\n",
    "\n",
    "# Coverage table\n",
    "df_coverage = df.filter(regex='Reads\\ per\\ base')\n",
    "# 删除样本名中携带的后缀\n",
    "df_coverage.columns = df_coverage.columns.str.replace('.sort Reads per base', '')\n",
    "\n",
    "## 读取Mapping 文件\n",
    "mp = pd.read_csv('mapping.txt.f1', sep='\\t')\n",
    "\n",
    "# 使用未标准化的RPKM数据\n",
    "dt_rpkm_input = df_rpkm.T\n",
    "## 为样本加上Label\n",
    "dt_rpkm_input_mp = pd.merge(mp, dt_rpkm_input, left_on='Sample', right_index=True)"
   ]
  },
  {
   "cell_type": "code",
   "execution_count": 6,
   "metadata": {},
   "outputs": [],
   "source": [
    "## 筛选以iLABdb开头的列名\n",
    "iLABdb_cols = [col for col in dt_rpkm_input_mp.columns if col.startswith('iLABdb')]\n",
    "dt_mt = pd.melt(dt_rpkm_input_mp, id_vars=[\"Sample\", \"BioProject\", \"Type\", \"Group\", \"LevelB\", \"LevelB1\", \"Project\", \"LevelA2\", \"LevelA3\"], value_vars=iLABdb_cols, var_name='Variable', value_name='Value')"
   ]
  },
  {
   "cell_type": "code",
   "execution_count": 15,
   "metadata": {},
   "outputs": [],
   "source": [
    "# 计算P值和LogFC\n",
    "results = []\n",
    "for (level, species), group_df in dt_mt.groupby(['LevelB1', 'Variable']):\n",
    "    control_values = group_df.loc[group_df['Group'] == 'Control', 'Value']\n",
    "    disease_values = group_df.loc[group_df['Group'] == 'Disease', 'Value']\n",
    "    \n",
    "    # # t-test\n",
    "    # t_stat, p_value = ttest_ind(control_values, disease_values, equal_var=False, nan_policy='omit')\n",
    "    stat, p_value = mannwhitneyu(control_values, disease_values, alternative='two-sided')\n",
    "    \n",
    "    # LogFC\n",
    "    log_fc = np.log2(np.mean(disease_values) / np.mean(control_values))\n",
    "    \n",
    "    results.append({'LevelB1': level, 'Variable': species, 'PValue': p_value, 'LogFC': log_fc})\n",
    "\n",
    "results_df = pd.DataFrame(results)\n",
    "\n",
    "# BH校正\n",
    "adjusted_pvalues = multipletests(results_df['PValue'], method='fdr_bh')[1]\n",
    "results_df['AdjustedPValue'] = adjusted_pvalues\n"
   ]
  },
  {
   "cell_type": "code",
   "execution_count": 17,
   "metadata": {},
   "outputs": [
    {
     "name": "stdout",
     "output_type": "stream",
     "text": [
      "满足LogFC < 0 且 AdjustedPValue < 0.01的行数: 1093\n",
      "满足LogFC > 0 且 AdjustedPValue < 0.01的行数: 624\n"
     ]
    }
   ],
   "source": [
    "## 分别统计LogFC列<0 且 AdjustedPValue<0.05； 以及LogFC列>0 且 AdjustedPValue<0.05的列数量\n",
    "## LogFC值<0代表在在疾病中缺少\n",
    "# 统计LogFC < 0 且 AdjustedPValue < 0.05的行数\n",
    "count_negative_logfc_and_significant = results_df[(results_df['LogFC'] < 0) & (results_df['AdjustedPValue'] < 0.05)].shape[0]\n",
    "\n",
    "# 统计LogFC > 0 且 AdjustedPValue < 0.05的行数\n",
    "count_positive_logfc_and_significant = results_df[(results_df['LogFC'] > 0) & (results_df['AdjustedPValue'] < 0.05)].shape[0]\n",
    "\n",
    "print(f\"满足LogFC < 0 且 AdjustedPValue < 0.01的行数: {count_negative_logfc_and_significant}\")\n",
    "print(f\"满足LogFC > 0 且 AdjustedPValue < 0.01的行数: {count_positive_logfc_and_significant}\")"
   ]
  },
  {
   "cell_type": "code",
   "execution_count": null,
   "metadata": {},
   "outputs": [],
   "source": [
    "## 考虑细菌的Mapping coverage，再进行Marker的计算\n"
   ]
  }
 ],
 "metadata": {
  "kernelspec": {
   "display_name": "py39",
   "language": "python",
   "name": "python3"
  },
  "language_info": {
   "codemirror_mode": {
    "name": "ipython",
    "version": 3
   },
   "file_extension": ".py",
   "mimetype": "text/x-python",
   "name": "python",
   "nbconvert_exporter": "python",
   "pygments_lexer": "ipython3",
   "version": "3.9.17"
  }
 },
 "nbformat": 4,
 "nbformat_minor": 2
}
